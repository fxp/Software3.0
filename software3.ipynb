{
 "cells": [
  {
   "attachments": {},
   "cell_type": "markdown",
   "metadata": {},
   "source": [
    "# An agile kickstart with Generative AI\n",
    "\n",
    "利用LLM，可以显著加快商业想法落地的时间。使用像GLM这样的大模型模型，分析师能够快速分析问题陈述，定义高级功能和目标，并生成Epic和User story。大模型工具能够简化需求收集，节省时间和精力，同时实现有组织和结构化的分析。利用智谱的GLM可以启动商业分析过程并进行快速需求收集。商业分析过程从确定问题陈述开始，然后列出高级商业目标或需求。通过使用Python中的ChatGLM聊天完成API，我们可以进行交互式对话，快速生成想法和需求，以启动分析过程。\n",
    "\n",
    "### Generating Epics and Stories with Prompt Engineering\n",
    "\n",
    "Epic和Story是将复杂项目分解成可管理单元的关键组成部分。在初步分析阶段，从高级特性中识别出Epic，然后进一步将其分解为Story。随后，在故事层面编写验收标准，告诉我们具体的细节，以便我们知道何时完成。\n",
    "\n",
    "我们使用GLM来为时间跟踪应用程序确定了三个高级功能。问题陈述被作为一个Prompt给出。\n",
    "\n",
    "> Identify top 3 features of a time tracking app for employees to enter work hours against projects so reports can be generated regarding billable hours and then invoices can be created for the billable hours.\n",
    "\n",
    "GLM identified the following 3 high level features:\n",
    "1. Project and Task Management: The time tracking app should allow employees to easily enter their work hours against specific projects and tasks. It should provide a user-friendly interface where employees can select their projects and tasks, start and stop the timer, and enter notes or descriptions for each entry.\n",
    "2. Reporting and Analytics: The app should have robust reporting and analytics features that enable managers and administrators to generate accurate reports regarding billable hours. These reports should include information such as total hours worked on each project, billable vs. non-billable hours, and any discrepancies or missing entries. The app should also allow for customizable filters and sorting options to help users easily analyze the data.\n",
    "3. Integration and Invoicing: The time tracking app should have seamless integration with invoicing and accounting software to automatically create invoices for the billable hours recorded. This feature should allow for easy transfer of data, such as client information, project details, and total billable hours. Additionally, the app should support various invoice formats and templates to accommodate different business needs.\n",
    "\n",
    "\n",
    "我们用这些高级功能来生成Epic 和 Story\n",
    "\n",
    "### Customising AI for Consistent Analysis\n",
    "\n",
    "商业分析师在编写Epic或Story时会遵循一定的结构和格式。尽管GLM知道什么是Epic或Story，但我们希望提供自己的定义和格式，以确保故事生成的一致风格。我们发现一个有帮助的技术是构建一个结构，详细说明我们希望如何编写我们的Epic、Story和Evaluation。这确保了生成的Story与所需的写作风格和格式保持一致。\n",
    "这个结构和格式如下定义在JSON格式中：\n"
   ]
  },
  {
   "cell_type": "code",
   "execution_count": 3,
   "metadata": {
    "ExecuteTime": {
     "end_time": "2024-03-04T08:36:35.656020Z",
     "start_time": "2024-03-04T08:36:35.638158Z"
    }
   },
   "outputs": [],
   "source": [
    "epic_story_ac_structure = {\n",
    "    \"epic\": {\n",
    "        \"definition\": \"An epic is a large body of work that can be broken down into a number of smaller user stories.\",\n",
    "        \"format\": {\n",
    "            \"structure\": \"Epic-Heading : Description\",\n",
    "            \"example\": \"Login : Login for new visitors\"\n",
    "        },\n",
    "        \"example\": \"The epic for a search functionality in a music app can be written as '''The new search functionality will allow users to narrow down their search and offer suggestions to help them find the music they want to listen to instantly.'''\"\n",
    "    },\n",
    "    \"story\": {\n",
    "        \"definition\": \"A user story is a short, simple description of a feature told from the perspective of the person who desires the new capability, usually a user or customer of the system.\",\n",
    "        \"template\": \"As a < type of user >, I want < some goal > so that < some reason >.\",\n",
    "        \"format\": {\n",
    "            \"structure\": \"<User-Story-Number> - <User-Story-Heading> : User-Story\",\n",
    "            \"example\": \"GT-Recruit-101 - Post resume to website\\\n",
    "                        A user can post her resume to the web site so employers can be informed \\\n",
    "                        about the work details about the user. \"\n",
    "        },\n",
    "        \"example\": \"Few real examples of user stories that describe the desired functionality in an early version of the Scrum Alliance website are below: \\\n",
    "            1. As a site member, I can fill out an application to become a Certified Scrum Trainer so that I can teach Certified Scrum Master and Certified Scrum Product Owner courses and certify others.\\\n",
    "            2. As a trainer, I want my profile to list my upcoming classes and include a link to a detailed page about each so that prospective attendees can find my courses.\\\n",
    "            3. As a site visitor, I can access old news that is no longer on the home page, so I can access things I remember from the past or that others mention to me.\\\n",
    "            4. As a site visitor, I can see a list of all upcoming “Certification Courses” and can page through them if there are a lot, so I can choose the best course for me.\"\n",
    "    },\n",
    "    \"acceptance-criteria\": {\n",
    "        \"definition\": \"A set of statements, each with a clear pass/fail result, that specify both functional and non-functional requirements, and are applicable at the Feature, and Story Level. Acceptance criteria constitute our 'Definition of Done'.\",\n",
    "        \"template\": \"Given <what all are the given conditions>, when <a particular action taken>, then <the result of that action>.\",\n",
    "        \"format\": {\n",
    "            \"structure\": \"<List of acceptance criterias>\",\n",
    "            \"example\": \"Few real examples of acceptance criterias for a user story '''As a user, I want to be able to recover the password to my account, so that I will be able to access my account in case I forgot the password.''' are below:\\\n",
    "            1. Given The user is logged out When the user navigates to the login page Then the user sees the 'forgot password' option.\\\n",
    "            2. Given The user navigates to the login page When The user selects 'forgot password' option And Enters a valid email to receive a link for password recovery Then The system sends the link to the entered email.\\\n",
    "            3. Given The user receives the link via the email When The user navigates through the link received in the email Then The system enables the user to set a new password\"\n",
    "        }\n",
    "    }\n",
    "}"
   ]
  },
  {
   "attachments": {},
   "cell_type": "markdown",
   "metadata": {},
   "source": [
    "我们为生成Epic定义了一个提示，并利用ChatGLM的Completion来生成Epic列表。 提示（变量：epic_prompt）提供了以下内容：\n",
    "上面的预定义结构（变量：epic_story_ac_structure）\n",
    "三个高级功能需求（变量：product_high_level_requirement）。"
   ]
  },
  {
   "cell_type": "code",
   "execution_count": 4,
   "outputs": [],
   "source": [
    "product_high_level_requirement = [\n",
    "    \"Project and Task Management: The time tracking app should allow employees to easily enter their work hours against specific projects and tasks. It should provide a user-friendly interface where employees can select their projects and tasks, start and stop the timer, and enter notes or descriptions for each entry.\",\n",
    "    \n",
    "    \"Reporting and Analytics: The app should have robust reporting and analytics features that enable managers and administrators to generate accurate reports regarding billable hours. These reports should include information such as total hours worked on each project, billable vs. non-billable hours, and any discrepancies or missing entries. The app should also allow for customizable filters and sorting options to help users easily analyze the data.\",\n",
    "    \n",
    "    \"Integration and Invoicing: The time tracking app should have seamless integration with invoicing and accounting software to automatically create invoices for the billable hours recorded. This feature should allow for easy transfer of data, such as client information, project details, and total billable hours. Additionally, the app should support various invoice formats and templates to accommodate different business needs.\"\n",
    "]"
   ],
   "metadata": {
    "collapsed": false,
    "ExecuteTime": {
     "end_time": "2024-03-04T08:36:36.411616Z",
     "start_time": "2024-03-04T08:36:36.404850Z"
    }
   }
  },
  {
   "cell_type": "code",
   "execution_count": 5,
   "metadata": {
    "ExecuteTime": {
     "end_time": "2024-03-04T08:36:36.746700Z",
     "start_time": "2024-03-04T08:36:36.741235Z"
    }
   },
   "outputs": [
    {
     "name": "stdout",
     "output_type": "stream",
     "text": [
      "\n",
      "  Epic = An epic is a large body of work that can be broken down into a number of smaller user stories.\n",
      "  Example for an epic : The epic for a search functionality in a music app can be written as '''The new search functionality will allow users to narrow down their search and offer suggestions to help them find the music they want to listen to instantly.'''\n",
      "\n",
      "  Your task is to perform the following actions:\n",
      "  1. Analyse each of the features listed to determine the various high level epics.\n",
      "  2. List each Epic.\n",
      "  3. Describe each Epic in a few sentences.\n",
      "\n",
      "  Use the following format:\n",
      "  Feature: <Feature Heading>\n",
      "  Feature Summary: <Feature Description>\n",
      "  Epics: <List of Epics in the format :   \n",
      "  '''Epic-Heading : Description'''>. Format example: \n",
      "  '''Login : Login for new visitors'''\n",
      "\n",
      "  Text: <['Project and Task Management: The time tracking app should allow employees to easily enter their work hours against specific projects and tasks. It should provide a user-friendly interface where employees can select their projects and tasks, start and stop the timer, and enter notes or descriptions for each entry.', 'Reporting and Analytics: The app should have robust reporting and analytics features that enable managers and administrators to generate accurate reports regarding billable hours. These reports should include information such as total hours worked on each project, billable vs. non-billable hours, and any discrepancies or missing entries. The app should also allow for customizable filters and sorting options to help users easily analyze the data.', 'Integration and Invoicing: The time tracking app should have seamless integration with invoicing and accounting software to automatically create invoices for the billable hours recorded. This feature should allow for easy transfer of data, such as client information, project details, and total billable hours. Additionally, the app should support various invoice formats and templates to accommodate different business needs.']>\n",
      " \n"
     ]
    }
   ],
   "source": [
    "epic_prompt = f\"\"\"\n",
    "  Epic = {epic_story_ac_structure[\"epic\"][\"definition\"]}\n",
    "  Example for an epic : {epic_story_ac_structure[\"epic\"][\"example\"]}\n",
    "\n",
    "  Your task is to perform the following actions:\n",
    "  1. Analyse each of the features listed to determine the various high level epics.\n",
    "  2. List each Epic.\n",
    "  3. Describe each Epic in a few sentences.\n",
    "\n",
    "  Use the following format:\n",
    "  Feature: <Feature Heading>\n",
    "  Feature Summary: <Feature Description>\n",
    "  Epics: <List of Epics in the format :   \n",
    "  '''{epic_story_ac_structure[\"epic\"][\"format\"][\"structure\"]}'''>. Format example: \n",
    "  '''{epic_story_ac_structure[\"epic\"][\"format\"][\"example\"]}'''\n",
    "\n",
    "  Text: <{product_high_level_requirement}>\n",
    " \"\"\"\n",
    "print(epic_prompt)\n",
    "# epics_response = get_completion(epic_prompt)\n",
    "# print(\"Epics List:\")\n",
    "# print(epics_response)"
   ]
  },
  {
   "attachments": {},
   "cell_type": "markdown",
   "metadata": {},
   "source": [
    "get_completion 方法如下所示；它调用 ChatGLM 的Chat Completion。\n",
    "\n",
    "注意，我们将 ‘temperature’ 设置为 0，这是模型输出随机性的程度。这确保了更可靠的结果，防止模型生成随机事实，并保持专注的方法。"
   ]
  },
  {
   "cell_type": "code",
   "execution_count": null,
   "metadata": {},
   "outputs": [],
   "source": [
    "def get_completion(prompt, model=\"glm-4\"):\n",
    "    messages = [{\"role\": \"user\", \"content\": prompt}]\n",
    "    response = openai.ChatCompletion.create(\n",
    "        model=model,\n",
    "        base_url=\"\",\n",
    "        messages=messages,\n",
    "        temperature=0,\n",
    "    )\n",
    "    return response.choices[0].message[\"content\"]"
   ]
  },
  {
   "attachments": {},
   "cell_type": "markdown",
   "metadata": {},
   "source": [
    "Response 里包含了一系列关于 Feature 的 Epic "
   ]
  },
  {
   "cell_type": "markdown",
   "source": [
    "Feature: Project and Task Management Feature Summary: The time tracking app should allow employees to easily enter their work hours against specific projects and tasks. Epics:\n",
    "复制\n",
    "Epic-Heading : Project and Task Entry\n",
    "Description: The epic for project and task entry in the time tracking app will allow users to select their projects and tasks, start and stop the timer, and enter notes or descriptions for each entry.\n",
    "Feature: Reporting and Analytics Feature Summary: The app should have robust reporting and analytics features that enable managers and administrators to generate accurate reports regarding billable hours. Epics:\n",
    "复制\n",
    "Epic-Heading : Reporting and Analytics Features\n",
    "Description: The epic for reporting and analytics in the time tracking app will provide managers and administrators with the ability to generate accurate reports on billable hours, including total hours worked on each project, billable vs. non-billable hours, and discrepancies or missing entries. It will also offer customizable filters and sorting options for easy data analysis.\n",
    "Feature: Integration and Invoicing Feature Summary: The time tracking app should have seamless integration with invoicing and accounting software to automatically create invoices for the billable hours recorded. Epics:\n",
    "复制\n",
    "Epic-Heading : Integration and Invoicing\n",
    "Description: The epic for integration and invoicing in the time tracking app will enable seamless integration with invoicing and accounting software, allowing for the automatic creation of invoices based on recorded billable hours. It will support various invoice formats and templates to accommodate different business needs, and ensure easy transfer of data such as client information, project details, and total billable hours.\n"
   ],
   "metadata": {
    "collapsed": false
   }
  }
 ],
 "metadata": {
  "kernelspec": {
   "display_name": "Python 3",
   "language": "python",
   "name": "python3"
  },
  "language_info": {
   "name": "python",
   "version": "3.10.11"
  },
  "orig_nbformat": 4
 },
 "nbformat": 4,
 "nbformat_minor": 2
}
